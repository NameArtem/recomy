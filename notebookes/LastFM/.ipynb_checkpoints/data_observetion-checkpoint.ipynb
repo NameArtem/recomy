{
 "cells": [
  {
   "cell_type": "code",
   "execution_count": 102,
   "metadata": {},
   "outputs": [],
   "source": [
    "import numpy as np\n",
    "import pandas as pd\n",
    "import matplotlib\n",
    "\n",
    "import bokeh\n",
    "from bokeh.io import output_notebook, show\n",
    "from bokeh.models import ColumnDataSource, HoverTool\n",
    "from bokeh.plotting import figure\n",
    "from bokeh.palettes import cividis\n",
    "from bokeh.transform import factor_cmap"
   ]
  },
  {
   "cell_type": "code",
   "execution_count": 8,
   "metadata": {},
   "outputs": [
    {
     "data": {
      "text/html": [
       "<div>\n",
       "<style scoped>\n",
       "    .dataframe tbody tr th:only-of-type {\n",
       "        vertical-align: middle;\n",
       "    }\n",
       "\n",
       "    .dataframe tbody tr th {\n",
       "        vertical-align: top;\n",
       "    }\n",
       "\n",
       "    .dataframe thead th {\n",
       "        text-align: right;\n",
       "    }\n",
       "</style>\n",
       "<table border=\"1\" class=\"dataframe\">\n",
       "  <thead>\n",
       "    <tr style=\"text-align: right;\">\n",
       "      <th></th>\n",
       "      <th>id</th>\n",
       "      <th>name</th>\n",
       "      <th>url</th>\n",
       "      <th>pictureURL</th>\n",
       "    </tr>\n",
       "  </thead>\n",
       "  <tbody>\n",
       "    <tr>\n",
       "      <th>0</th>\n",
       "      <td>1</td>\n",
       "      <td>MALICE MIZER</td>\n",
       "      <td>http://www.last.fm/music/MALICE+MIZER</td>\n",
       "      <td>http://userserve-ak.last.fm/serve/252/10808.jpg</td>\n",
       "    </tr>\n",
       "    <tr>\n",
       "      <th>1</th>\n",
       "      <td>2</td>\n",
       "      <td>Diary of Dreams</td>\n",
       "      <td>http://www.last.fm/music/Diary+of+Dreams</td>\n",
       "      <td>http://userserve-ak.last.fm/serve/252/3052066.jpg</td>\n",
       "    </tr>\n",
       "    <tr>\n",
       "      <th>2</th>\n",
       "      <td>3</td>\n",
       "      <td>Carpathian Forest</td>\n",
       "      <td>http://www.last.fm/music/Carpathian+Forest</td>\n",
       "      <td>http://userserve-ak.last.fm/serve/252/40222717...</td>\n",
       "    </tr>\n",
       "    <tr>\n",
       "      <th>3</th>\n",
       "      <td>4</td>\n",
       "      <td>Moi dix Mois</td>\n",
       "      <td>http://www.last.fm/music/Moi+dix+Mois</td>\n",
       "      <td>http://userserve-ak.last.fm/serve/252/54697835...</td>\n",
       "    </tr>\n",
       "    <tr>\n",
       "      <th>4</th>\n",
       "      <td>5</td>\n",
       "      <td>Bella Morte</td>\n",
       "      <td>http://www.last.fm/music/Bella+Morte</td>\n",
       "      <td>http://userserve-ak.last.fm/serve/252/14789013...</td>\n",
       "    </tr>\n",
       "  </tbody>\n",
       "</table>\n",
       "</div>"
      ],
      "text/plain": [
       "   id               name                                         url  \\\n",
       "0   1       MALICE MIZER       http://www.last.fm/music/MALICE+MIZER   \n",
       "1   2    Diary of Dreams    http://www.last.fm/music/Diary+of+Dreams   \n",
       "2   3  Carpathian Forest  http://www.last.fm/music/Carpathian+Forest   \n",
       "3   4       Moi dix Mois       http://www.last.fm/music/Moi+dix+Mois   \n",
       "4   5        Bella Morte        http://www.last.fm/music/Bella+Morte   \n",
       "\n",
       "                                          pictureURL  \n",
       "0    http://userserve-ak.last.fm/serve/252/10808.jpg  \n",
       "1  http://userserve-ak.last.fm/serve/252/3052066.jpg  \n",
       "2  http://userserve-ak.last.fm/serve/252/40222717...  \n",
       "3  http://userserve-ak.last.fm/serve/252/54697835...  \n",
       "4  http://userserve-ak.last.fm/serve/252/14789013...  "
      ]
     },
     "execution_count": 8,
     "metadata": {},
     "output_type": "execute_result"
    }
   ],
   "source": [
    "artists = pd.read_csv(\"../../data/LastFM!Music/artists.dat\", sep='\\t')\n",
    "artists.head()"
   ]
  },
  {
   "cell_type": "code",
   "execution_count": 39,
   "metadata": {},
   "outputs": [
    {
     "data": {
      "text/html": [
       "<div>\n",
       "<style scoped>\n",
       "    .dataframe tbody tr th:only-of-type {\n",
       "        vertical-align: middle;\n",
       "    }\n",
       "\n",
       "    .dataframe tbody tr th {\n",
       "        vertical-align: top;\n",
       "    }\n",
       "\n",
       "    .dataframe thead th {\n",
       "        text-align: right;\n",
       "    }\n",
       "</style>\n",
       "<table border=\"1\" class=\"dataframe\">\n",
       "  <thead>\n",
       "    <tr style=\"text-align: right;\">\n",
       "      <th></th>\n",
       "      <th>tagID</th>\n",
       "      <th>tagValue</th>\n",
       "    </tr>\n",
       "  </thead>\n",
       "  <tbody>\n",
       "    <tr>\n",
       "      <th>0</th>\n",
       "      <td>1</td>\n",
       "      <td>metal</td>\n",
       "    </tr>\n",
       "    <tr>\n",
       "      <th>1</th>\n",
       "      <td>2</td>\n",
       "      <td>alternative metal</td>\n",
       "    </tr>\n",
       "    <tr>\n",
       "      <th>2</th>\n",
       "      <td>3</td>\n",
       "      <td>goth rock</td>\n",
       "    </tr>\n",
       "    <tr>\n",
       "      <th>3</th>\n",
       "      <td>4</td>\n",
       "      <td>black metal</td>\n",
       "    </tr>\n",
       "    <tr>\n",
       "      <th>4</th>\n",
       "      <td>5</td>\n",
       "      <td>death metal</td>\n",
       "    </tr>\n",
       "  </tbody>\n",
       "</table>\n",
       "</div>"
      ],
      "text/plain": [
       "   tagID           tagValue\n",
       "0      1              metal\n",
       "1      2  alternative metal\n",
       "2      3          goth rock\n",
       "3      4        black metal\n",
       "4      5        death metal"
      ]
     },
     "execution_count": 39,
     "metadata": {},
     "output_type": "execute_result"
    }
   ],
   "source": [
    "tags = pd.read_csv(\"../../data/LastFM!Music/tags.dat\", sep='\\t', encoding = 'windows-1251')\n",
    "#chage to UTF-8\n",
    "tags['tagID'] = list(map(lambda x: int(str(x).encode('utf-8','strict')), tags['tagID']))\n",
    "tags['tagValue'] = list(map(lambda x: x.encode('utf-8','strict').decode('utf-8'), tags['tagValue']))\n",
    "tags.head()"
   ]
  },
  {
   "cell_type": "code",
   "execution_count": 40,
   "metadata": {},
   "outputs": [
    {
     "data": {
      "text/html": [
       "<div>\n",
       "<style scoped>\n",
       "    .dataframe tbody tr th:only-of-type {\n",
       "        vertical-align: middle;\n",
       "    }\n",
       "\n",
       "    .dataframe tbody tr th {\n",
       "        vertical-align: top;\n",
       "    }\n",
       "\n",
       "    .dataframe thead th {\n",
       "        text-align: right;\n",
       "    }\n",
       "</style>\n",
       "<table border=\"1\" class=\"dataframe\">\n",
       "  <thead>\n",
       "    <tr style=\"text-align: right;\">\n",
       "      <th></th>\n",
       "      <th>userID</th>\n",
       "      <th>artistID</th>\n",
       "      <th>tagID</th>\n",
       "      <th>day</th>\n",
       "      <th>month</th>\n",
       "      <th>year</th>\n",
       "    </tr>\n",
       "  </thead>\n",
       "  <tbody>\n",
       "    <tr>\n",
       "      <th>0</th>\n",
       "      <td>2</td>\n",
       "      <td>52</td>\n",
       "      <td>13</td>\n",
       "      <td>1</td>\n",
       "      <td>4</td>\n",
       "      <td>2009</td>\n",
       "    </tr>\n",
       "    <tr>\n",
       "      <th>1</th>\n",
       "      <td>2</td>\n",
       "      <td>52</td>\n",
       "      <td>15</td>\n",
       "      <td>1</td>\n",
       "      <td>4</td>\n",
       "      <td>2009</td>\n",
       "    </tr>\n",
       "    <tr>\n",
       "      <th>2</th>\n",
       "      <td>2</td>\n",
       "      <td>52</td>\n",
       "      <td>18</td>\n",
       "      <td>1</td>\n",
       "      <td>4</td>\n",
       "      <td>2009</td>\n",
       "    </tr>\n",
       "    <tr>\n",
       "      <th>3</th>\n",
       "      <td>2</td>\n",
       "      <td>52</td>\n",
       "      <td>21</td>\n",
       "      <td>1</td>\n",
       "      <td>4</td>\n",
       "      <td>2009</td>\n",
       "    </tr>\n",
       "    <tr>\n",
       "      <th>4</th>\n",
       "      <td>2</td>\n",
       "      <td>52</td>\n",
       "      <td>41</td>\n",
       "      <td>1</td>\n",
       "      <td>4</td>\n",
       "      <td>2009</td>\n",
       "    </tr>\n",
       "  </tbody>\n",
       "</table>\n",
       "</div>"
      ],
      "text/plain": [
       "   userID  artistID  tagID  day  month  year\n",
       "0       2        52     13    1      4  2009\n",
       "1       2        52     15    1      4  2009\n",
       "2       2        52     18    1      4  2009\n",
       "3       2        52     21    1      4  2009\n",
       "4       2        52     41    1      4  2009"
      ]
     },
     "execution_count": 40,
     "metadata": {},
     "output_type": "execute_result"
    }
   ],
   "source": [
    "user_taggedartists = pd.read_csv(\"../../data/LastFM!Music/user_taggedartists.dat\", sep='\\t')\n",
    "user_taggedartists.head()"
   ]
  },
  {
   "cell_type": "code",
   "execution_count": 141,
   "metadata": {},
   "outputs": [
    {
     "name": "stdout",
     "output_type": "stream",
     "text": [
      "[2009 2010 2007 2008 2011 2006 2005 1956 1957 1979]\n"
     ]
    }
   ],
   "source": [
    "# there is a probleb\n",
    "# what are they 1956 / 1957 / 1979\n",
    "print(user_taggedartists.year.unique())"
   ]
  },
  {
   "cell_type": "code",
   "execution_count": 144,
   "metadata": {},
   "outputs": [
    {
     "data": {
      "text/plain": [
       "year\n",
       "1956        3\n",
       "1957        1\n",
       "1979        1\n",
       "2005     2483\n",
       "2006     9814\n",
       "2007    20415\n",
       "2008    40273\n",
       "2009    43366\n",
       "2010    54998\n",
       "2011    15125\n",
       "Name: tagID, dtype: int64"
      ]
     },
     "execution_count": 144,
     "metadata": {},
     "output_type": "execute_result"
    }
   ],
   "source": [
    "# Ok, just drop it\n",
    "user_taggedartists.groupby('year')['tagID'].count()"
   ]
  },
  {
   "cell_type": "code",
   "execution_count": 49,
   "metadata": {},
   "outputs": [
    {
     "data": {
      "text/html": [
       "<div>\n",
       "<style scoped>\n",
       "    .dataframe tbody tr th:only-of-type {\n",
       "        vertical-align: middle;\n",
       "    }\n",
       "\n",
       "    .dataframe tbody tr th {\n",
       "        vertical-align: top;\n",
       "    }\n",
       "\n",
       "    .dataframe thead th {\n",
       "        text-align: right;\n",
       "    }\n",
       "</style>\n",
       "<table border=\"1\" class=\"dataframe\">\n",
       "  <thead>\n",
       "    <tr style=\"text-align: right;\">\n",
       "      <th></th>\n",
       "      <th>userID</th>\n",
       "      <th>artistID</th>\n",
       "      <th>weight</th>\n",
       "    </tr>\n",
       "  </thead>\n",
       "  <tbody>\n",
       "    <tr>\n",
       "      <th>0</th>\n",
       "      <td>2</td>\n",
       "      <td>51</td>\n",
       "      <td>13883</td>\n",
       "    </tr>\n",
       "    <tr>\n",
       "      <th>1</th>\n",
       "      <td>2</td>\n",
       "      <td>52</td>\n",
       "      <td>11690</td>\n",
       "    </tr>\n",
       "    <tr>\n",
       "      <th>2</th>\n",
       "      <td>2</td>\n",
       "      <td>53</td>\n",
       "      <td>11351</td>\n",
       "    </tr>\n",
       "    <tr>\n",
       "      <th>3</th>\n",
       "      <td>2</td>\n",
       "      <td>54</td>\n",
       "      <td>10300</td>\n",
       "    </tr>\n",
       "    <tr>\n",
       "      <th>4</th>\n",
       "      <td>2</td>\n",
       "      <td>55</td>\n",
       "      <td>8983</td>\n",
       "    </tr>\n",
       "  </tbody>\n",
       "</table>\n",
       "</div>"
      ],
      "text/plain": [
       "   userID  artistID  weight\n",
       "0       2        51   13883\n",
       "1       2        52   11690\n",
       "2       2        53   11351\n",
       "3       2        54   10300\n",
       "4       2        55    8983"
      ]
     },
     "execution_count": 49,
     "metadata": {},
     "output_type": "execute_result"
    }
   ],
   "source": [
    "user_artists = pd.read_csv(\"../../data/LastFM!Music/user_artists.dat\", sep='\\t')\n",
    "user_artists.head()"
   ]
  },
  {
   "cell_type": "code",
   "execution_count": 126,
   "metadata": {},
   "outputs": [
    {
     "data": {
      "text/html": [
       "<div>\n",
       "<style scoped>\n",
       "    .dataframe tbody tr th:only-of-type {\n",
       "        vertical-align: middle;\n",
       "    }\n",
       "\n",
       "    .dataframe tbody tr th {\n",
       "        vertical-align: top;\n",
       "    }\n",
       "\n",
       "    .dataframe thead th {\n",
       "        text-align: right;\n",
       "    }\n",
       "</style>\n",
       "<table border=\"1\" class=\"dataframe\">\n",
       "  <thead>\n",
       "    <tr style=\"text-align: right;\">\n",
       "      <th></th>\n",
       "      <th>userID</th>\n",
       "      <th>artistID</th>\n",
       "      <th>tagID</th>\n",
       "      <th>tagValue</th>\n",
       "    </tr>\n",
       "  </thead>\n",
       "  <tbody>\n",
       "    <tr>\n",
       "      <th>0</th>\n",
       "      <td>2</td>\n",
       "      <td>52</td>\n",
       "      <td>13</td>\n",
       "      <td>chillout</td>\n",
       "    </tr>\n",
       "    <tr>\n",
       "      <th>1</th>\n",
       "      <td>2</td>\n",
       "      <td>52</td>\n",
       "      <td>15</td>\n",
       "      <td>downtempo</td>\n",
       "    </tr>\n",
       "    <tr>\n",
       "      <th>2</th>\n",
       "      <td>2</td>\n",
       "      <td>52</td>\n",
       "      <td>18</td>\n",
       "      <td>electronic</td>\n",
       "    </tr>\n",
       "    <tr>\n",
       "      <th>3</th>\n",
       "      <td>2</td>\n",
       "      <td>52</td>\n",
       "      <td>21</td>\n",
       "      <td>trip-hop</td>\n",
       "    </tr>\n",
       "    <tr>\n",
       "      <th>4</th>\n",
       "      <td>2</td>\n",
       "      <td>52</td>\n",
       "      <td>41</td>\n",
       "      <td>female vovalists</td>\n",
       "    </tr>\n",
       "  </tbody>\n",
       "</table>\n",
       "</div>"
      ],
      "text/plain": [
       "   userID  artistID  tagID          tagValue\n",
       "0       2        52     13          chillout\n",
       "1       2        52     15         downtempo\n",
       "2       2        52     18        electronic\n",
       "3       2        52     21          trip-hop\n",
       "4       2        52     41  female vovalists"
      ]
     },
     "execution_count": 126,
     "metadata": {},
     "output_type": "execute_result"
    }
   ],
   "source": [
    "user_artists_tags = user_taggedartists.merge(user_artists,\n",
    "                                       how = 'left',\n",
    "                                       left_on = ['userID', 'artistID'],\n",
    "                                       right_on = ['userID', 'artistID'])\n",
    "user_artists_tags = user_artists_tags.merge(tags,\n",
    "                                       how = 'left',\n",
    "                                       left_on = 'tagID',\n",
    "                                       right_on = 'tagID')[['userID', 'artistID', 'tagID', 'tagValue']]\n",
    "user_artists_tags.head()"
   ]
  },
  {
   "cell_type": "code",
   "execution_count": 137,
   "metadata": {},
   "outputs": [
    {
     "data": {
      "text/html": [
       "\n",
       "\n",
       "\n",
       "\n",
       "\n",
       "\n",
       "  <div class=\"bk-root\" id=\"90054fad-2302-4196-9514-f829d9be000a\" data-root-id=\"4616\"></div>\n"
      ]
     },
     "metadata": {},
     "output_type": "display_data"
    },
    {
     "data": {
      "application/javascript": [
       "(function(root) {\n",
       "  function embed_document(root) {\n",
       "    \n",
       "  var docs_json = {\"6d25947a-2672-4ff1-91b6-e078c360dee1\":{\"roots\":{\"references\":[{\"attributes\":{\"below\":[{\"id\":\"4627\",\"type\":\"CategoricalAxis\"}],\"center\":[{\"id\":\"4630\",\"type\":\"Grid\"},{\"id\":\"4635\",\"type\":\"Grid\"}],\"left\":[{\"id\":\"4631\",\"type\":\"LinearAxis\"}],\"plot_height\":350,\"renderers\":[{\"id\":\"4640\",\"type\":\"GlyphRenderer\"}],\"title\":{\"id\":\"4617\",\"type\":\"Title\"},\"toolbar\":{\"id\":\"4636\",\"type\":\"Toolbar\"},\"toolbar_location\":null,\"x_range\":{\"id\":\"4619\",\"type\":\"FactorRange\"},\"x_scale\":{\"id\":\"4623\",\"type\":\"CategoricalScale\"},\"y_range\":{\"id\":\"4621\",\"type\":\"DataRange1d\"},\"y_scale\":{\"id\":\"4625\",\"type\":\"LinearScale\"}},\"id\":\"4616\",\"subtype\":\"Figure\",\"type\":\"Plot\"},{\"attributes\":{\"formatter\":{\"id\":\"4804\",\"type\":\"CategoricalTickFormatter\"},\"major_label_orientation\":1.57,\"ticker\":{\"id\":\"4628\",\"type\":\"CategoricalTicker\"}},\"id\":\"4627\",\"type\":\"CategoricalAxis\"},{\"attributes\":{\"data_source\":{\"id\":\"4637\",\"type\":\"ColumnDataSource\"},\"glyph\":{\"id\":\"4638\",\"type\":\"VBar\"},\"hover_glyph\":null,\"muted_glyph\":null,\"nonselection_glyph\":{\"id\":\"4639\",\"type\":\"VBar\"},\"selection_glyph\":null,\"view\":{\"id\":\"4641\",\"type\":\"CDSView\"}},\"id\":\"4640\",\"type\":\"GlyphRenderer\"},{\"attributes\":{},\"id\":\"4625\",\"type\":\"LinearScale\"},{\"attributes\":{},\"id\":\"4804\",\"type\":\"CategoricalTickFormatter\"},{\"attributes\":{\"text\":\"Top 50 out of 9749 tags counts\"},\"id\":\"4617\",\"type\":\"Title\"},{\"attributes\":{\"formatter\":{\"id\":\"4802\",\"type\":\"BasicTickFormatter\"},\"ticker\":{\"id\":\"4632\",\"type\":\"BasicTicker\"}},\"id\":\"4631\",\"type\":\"LinearAxis\"},{\"attributes\":{},\"id\":\"4628\",\"type\":\"CategoricalTicker\"},{\"attributes\":{\"dimension\":1,\"ticker\":{\"id\":\"4632\",\"type\":\"BasicTicker\"}},\"id\":\"4635\",\"type\":\"Grid\"},{\"attributes\":{\"callback\":null,\"start\":0},\"id\":\"4621\",\"type\":\"DataRange1d\"},{\"attributes\":{\"fill_alpha\":{\"value\":0.1},\"fill_color\":{\"value\":\"#1f77b4\"},\"line_alpha\":{\"value\":0.1},\"line_color\":{\"value\":\"#1f77b4\"},\"top\":{\"field\":\"top\"},\"width\":{\"value\":0.9},\"x\":{\"field\":\"x\"}},\"id\":\"4639\",\"type\":\"VBar\"},{\"attributes\":{},\"id\":\"4623\",\"type\":\"CategoricalScale\"},{\"attributes\":{},\"id\":\"4806\",\"type\":\"Selection\"},{\"attributes\":{},\"id\":\"4802\",\"type\":\"BasicTickFormatter\"},{\"attributes\":{\"callback\":null,\"data\":{\"top\":[7503,5418,5251,4672,4458,4228,2791,2739,2631,2287,2092,2060,1834,1789,1741,1729,1699,1615,1595,1439,1387,1385,1311,1309,1289,1266,1203,1108,1097,1045,1038,1025,984,945,925,884,876,867,860,847,828,823,815,811,808,765,757,745,744,705],\"x\":[\"rock\",\"pop\",\"alternative\",\"electronic\",\"indie\",\"female vocalists\",\"80s\",\"dance\",\"alternative rock\",\"classic rock\",\"british\",\"indie rock\",\"singer-songwriter\",\"hard rock\",\"experimental\",\"metal\",\"ambient\",\"90s\",\"new wave\",\"seen live\",\"chillout\",\"hip-hop\",\"punk\",\"folk\",\"electronica\",\"rnb\",\"instrumental\",\"heavy metal\",\"soul\",\"acoustic\",\"progressive rock\",\"70s\",\"jazz\",\"soundtrack\",\"male vocalists\",\"industrial\",\"trip-hop\",\"metalcore\",\"rap\",\"synthpop\",\"american\",\"hardcore\",\"indie pop\",\"pop rock\",\"00s\",\"britpop\",\"post-punk\",\"60s\",\"punk rock\",\"blues\"]},\"selected\":{\"id\":\"4806\",\"type\":\"Selection\"},\"selection_policy\":{\"id\":\"4807\",\"type\":\"UnionRenderers\"}},\"id\":\"4637\",\"type\":\"ColumnDataSource\"},{\"attributes\":{\"source\":{\"id\":\"4637\",\"type\":\"ColumnDataSource\"}},\"id\":\"4641\",\"type\":\"CDSView\"},{\"attributes\":{},\"id\":\"4807\",\"type\":\"UnionRenderers\"},{\"attributes\":{\"fill_color\":{\"value\":\"#1f77b4\"},\"line_color\":{\"value\":\"#1f77b4\"},\"top\":{\"field\":\"top\"},\"width\":{\"value\":0.9},\"x\":{\"field\":\"x\"}},\"id\":\"4638\",\"type\":\"VBar\"},{\"attributes\":{},\"id\":\"4632\",\"type\":\"BasicTicker\"},{\"attributes\":{\"active_drag\":\"auto\",\"active_inspect\":\"auto\",\"active_multi\":null,\"active_scroll\":\"auto\",\"active_tap\":\"auto\"},\"id\":\"4636\",\"type\":\"Toolbar\"},{\"attributes\":{\"callback\":null,\"factors\":[\"rock\",\"pop\",\"alternative\",\"electronic\",\"indie\",\"female vocalists\",\"80s\",\"dance\",\"alternative rock\",\"classic rock\",\"british\",\"indie rock\",\"singer-songwriter\",\"hard rock\",\"experimental\",\"metal\",\"ambient\",\"90s\",\"new wave\",\"seen live\",\"chillout\",\"hip-hop\",\"punk\",\"folk\",\"electronica\",\"rnb\",\"instrumental\",\"heavy metal\",\"soul\",\"acoustic\",\"progressive rock\",\"70s\",\"jazz\",\"soundtrack\",\"male vocalists\",\"industrial\",\"trip-hop\",\"metalcore\",\"rap\",\"synthpop\",\"american\",\"hardcore\",\"indie pop\",\"pop rock\",\"00s\",\"britpop\",\"post-punk\",\"60s\",\"punk rock\",\"blues\"]},\"id\":\"4619\",\"type\":\"FactorRange\"},{\"attributes\":{\"grid_line_color\":null,\"ticker\":{\"id\":\"4628\",\"type\":\"CategoricalTicker\"}},\"id\":\"4630\",\"type\":\"Grid\"}],\"root_ids\":[\"4616\"]},\"title\":\"Bokeh Application\",\"version\":\"1.2.0\"}};\n",
       "  var render_items = [{\"docid\":\"6d25947a-2672-4ff1-91b6-e078c360dee1\",\"roots\":{\"4616\":\"90054fad-2302-4196-9514-f829d9be000a\"}}];\n",
       "  root.Bokeh.embed.embed_items_notebook(docs_json, render_items);\n",
       "\n",
       "  }\n",
       "  if (root.Bokeh !== undefined) {\n",
       "    embed_document(root);\n",
       "  } else {\n",
       "    var attempts = 0;\n",
       "    var timer = setInterval(function(root) {\n",
       "      if (root.Bokeh !== undefined) {\n",
       "        embed_document(root);\n",
       "        clearInterval(timer);\n",
       "      }\n",
       "      attempts++;\n",
       "      if (attempts > 100) {\n",
       "        console.log(\"Bokeh: ERROR: Unable to run BokehJS code because BokehJS library is missing\");\n",
       "        clearInterval(timer);\n",
       "      }\n",
       "    }, 10, root)\n",
       "  }\n",
       "})(window);"
      ],
      "application/vnd.bokehjs_exec.v0+json": ""
     },
     "metadata": {
      "application/vnd.bokehjs_exec.v0+json": {
       "id": "4616"
      }
     },
     "output_type": "display_data"
    }
   ],
   "source": [
    "grp = user_artists_tags.groupby('tagValue')['userID'].count()\n",
    "\n",
    "#select top 50 tags\n",
    "tags = grp.nlargest(50).index.tolist()\n",
    "counts = grp.nlargest(50).values.tolist()\n",
    "\n",
    "#create bokeh polot\n",
    "p = figure(x_range=tags, \n",
    "           plot_height=350, \n",
    "           title=\"Top 50 out of {} tags counts\".format(len(grp.index.tolist())),\n",
    "           toolbar_location=None, \n",
    "           tools=\"\")\n",
    "\n",
    "p.vbar(x=tags, top=counts, width=0.9)\n",
    "p.xgrid.grid_line_color = None\n",
    "p.y_range.start = 0\n",
    "p.xaxis.major_label_orientation = 3.14/2\n",
    "\n",
    "show(p)"
   ]
  },
  {
   "cell_type": "code",
   "execution_count": 139,
   "metadata": {},
   "outputs": [
    {
     "data": {
      "text/plain": [
       "array([2009, 2010, 2007, 2008, 2011, 2006, 2005, 1956, 1957, 1979],\n",
       "      dtype=int64)"
      ]
     },
     "execution_count": 139,
     "metadata": {},
     "output_type": "execute_result"
    }
   ],
   "source": [
    "user_taggedartists.year.unique()"
   ]
  },
  {
   "cell_type": "code",
   "execution_count": null,
   "metadata": {},
   "outputs": [],
   "source": []
  }
 ],
 "metadata": {
  "kernelspec": {
   "display_name": "Python 3",
   "language": "python",
   "name": "python3"
  },
  "language_info": {
   "codemirror_mode": {
    "name": "ipython",
    "version": 3
   },
   "file_extension": ".py",
   "mimetype": "text/x-python",
   "name": "python",
   "nbconvert_exporter": "python",
   "pygments_lexer": "ipython3",
   "version": "3.7.3"
  }
 },
 "nbformat": 4,
 "nbformat_minor": 2
}
